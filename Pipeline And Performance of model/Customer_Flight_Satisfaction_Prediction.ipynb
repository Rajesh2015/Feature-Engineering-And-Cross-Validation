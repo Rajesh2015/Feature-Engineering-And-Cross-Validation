{
 "cells": [
  {
   "cell_type": "markdown",
   "metadata": {},
   "source": [
    "# Context and Defining Problem Statement\n",
    "\n",
    "The data we have at hand is of passengers and their feedback regarding their flight experience. \n",
    "\n",
    "Each row is one passenger. Apart from the  feedback from the customers accross various attributes(15 in total) like food, online_support, cleanliness etc, we have data about the customers' age, loyalty to the airline, gender and class.\n",
    "\n",
    "The target column is a binary variable which tells us if the customer is satisfied or neutral/dissatisfied\n",
    "\n",
    "The task at hand is to analyze reasons for customers' satisfaction or dissatisfaction.\n",
    "\n",
    "And finally, we build a model to predict customer satisfaction using all or some of the data we have"
   ]
  },
  {
   "cell_type": "markdown",
   "metadata": {},
   "source": [
    "# Steps - \n",
    "1. Data loading and preprocessing\n",
    "2. Exploratory Data Analysis\n",
    "3. Model building and evaluation\n",
    "4. Model Tuning\n",
    "5. Dimensionality Reduction"
   ]
  },
  {
   "cell_type": "markdown",
   "metadata": {},
   "source": [
    "# Data loading and preprocessing"
   ]
  },
  {
   "cell_type": "markdown",
   "metadata": {},
   "source": [
    "### 1. Import Pandas, Numpy, pyplot and seaborn"
   ]
  },
  {
   "cell_type": "code",
   "execution_count": 1,
   "metadata": {},
   "outputs": [],
   "source": [
    "#Import necessary libraries\n",
    "%matplotlib inline\n",
    "import numpy as np\n",
    "import pandas as pd\n",
    "import matplotlib.pyplot as plt\n",
    "import seaborn as sns\n",
    "import warnings\n",
    "warnings.filterwarnings(\"ignore\")  # Not always recommended, but jsut so our notebook looks clean for this activity"
   ]
  },
  {
   "cell_type": "markdown",
   "metadata": {},
   "source": [
    "### 2. Import the dataframes that are needed\n",
    "- Import \"Flight data_Train.csv\" and \"Surveydata_Train.csv\""
   ]
  },
  {
   "cell_type": "code",
   "execution_count": 2,
   "metadata": {},
   "outputs": [],
   "source": [
    "df1 = pd.read_csv(\"Flight data_Train.csv\")  # Read the data regarding customer attributes\n",
    "df2 = pd.read_csv(\"Surveydata_Train.csv\")   # Feedback data from customers"
   ]
  },
  {
   "cell_type": "markdown",
   "metadata": {},
   "source": [
    "### 3. Join the two dataframes using the 'id' column as the primary key\n",
    "- Rename the Id column of one dataframe so that there \"id\" column name becomes same"
   ]
  },
  {
   "cell_type": "code",
   "execution_count": null,
   "metadata": {},
   "outputs": [],
   "source": [
    "#Using pandas' Join method\n",
    "#c = a.join(b)  # Joining two dfs on the 'Id' column\n",
    "\n",
    "df = df2.set_index(\"Id\").join(df1.set_index(\"ID\"))\n",
    "\n",
    "\n",
    "print(df.shape)\n",
    "df.head()  # the combined dataframe"
   ]
  },
  {
   "cell_type": "raw",
   "metadata": {},
   "source": [
    "# Using pandas' concat method\n",
    "# Because the Id columns are not in the same order in the two dataframes, first we sort them and then concat\n",
    "\n",
    "a = df1.sort_values(by = 'ID')   \n",
    "b = df2.sort_values(by = 'Id')\n",
    "\n",
    "b.reset_index(drop = True, inplace = True)    # reset the index so that it doesn't cause a problem while concatenating\n",
    "\n",
    "# Now that we are confident that both dataframes are in the same order, drop the Id column in the second dataframe\n",
    "b.drop(columns = 'Id', inplace = True)         \n",
    "\n",
    "c = pd.concat([a,b], axis = 1)   # Concat!!!\n",
    "\n",
    "print(c.shape)\n",
    "c.head()"
   ]
  },
  {
   "cell_type": "raw",
   "metadata": {},
   "source": [
    "# using pd.merge\n",
    "\n",
    "a = df1.copy(deep = True)\n",
    "b = df2.copy(deep = True)\n",
    "\n",
    "c = a.merge(b, left_on='ID', right_on='Id').drop(columns = 'Id')\n",
    "\n",
    "print(c.shape)\n",
    "c.head()"
   ]
  },
  {
   "cell_type": "markdown",
   "metadata": {},
   "source": [
    "### 4. Print the number of missing values in each of the columns"
   ]
  },
  {
   "cell_type": "code",
   "execution_count": null,
   "metadata": {},
   "outputs": [],
   "source": [
    "df.isna().apply(pd.value_counts)    # isna() gives a boolean dataframe, value counts give us number of trues and falses"
   ]
  },
  {
   "cell_type": "code",
   "execution_count": null,
   "metadata": {},
   "outputs": [],
   "source": [
    "df.isna().sum() # Since True is 1 and False is 0, if you do a sum of a boolean dataframe, we get the number of trues in each col"
   ]
  },
  {
   "cell_type": "code",
   "execution_count": null,
   "metadata": {},
   "outputs": [],
   "source": [
    "df.isnull().apply(pd.value_counts)  # isna() and isnull() are exactly the same "
   ]
  },
  {
   "cell_type": "markdown",
   "metadata": {},
   "source": [
    "### 5. Drop all the rows having atleast one missing values and check the shape of the dataframe before and after dropping the rows\n",
    "- Fill null values in ArrivalDelayin_Mins with mean\n",
    "- After that drop all the rows with null values"
   ]
  },
  {
   "cell_type": "code",
   "execution_count": null,
   "metadata": {},
   "outputs": [],
   "source": [
    "# Since there are very less null values in the 'ArrivalDelayin_Mins' column, lets impute with mean\n",
    "\n",
    "df.ArrivalDelayin_Mins.fillna(df.ArrivalDelayin_Mins.mean(), inplace = True)"
   ]
  },
  {
   "cell_type": "raw",
   "metadata": {},
   "source": [
    "# Alternate way - 1\n",
    "\n",
    "df.ArrivalDelayin_Mins.replace({np.nan  : df.ArrivalDelayin_Mins.mean()}, inplace = True)"
   ]
  },
  {
   "cell_type": "raw",
   "metadata": {},
   "source": [
    "# Alternate way - 2\n",
    "\n",
    "from sklearn.impute import SimpleImputer\n",
    "\n",
    "imputer = SimpleImputer(missing_values = np.nan, strategy = 'mean') \n",
    "\n",
    "df['ArrivalDelayin_Mins'] = imputer.fit_transform(df['ArrivalDelayin_Mins'].values.reshape(-1,1))\n",
    "\n",
    "# the imputer algorithm takes n-dimensional array and since it was throwing an error asking to reshape. Hence the reshape\n"
   ]
  },
  {
   "cell_type": "code",
   "execution_count": null,
   "metadata": {},
   "outputs": [],
   "source": [
    "df.ArrivalDelayin_Mins.isna().sum()"
   ]
  },
  {
   "cell_type": "code",
   "execution_count": null,
   "metadata": {},
   "outputs": [],
   "source": [
    "# Rest other missing values are filled with not_captured.\n",
    "#It can be done in other way also or also can be dropped according to the problem and business context.\n",
    "df.fillna(\"not_captured\", inplace = True) \n"
   ]
  },
  {
   "cell_type": "code",
   "execution_count": null,
   "metadata": {},
   "outputs": [],
   "source": [
    "print(df.shape)"
   ]
  },
  {
   "cell_type": "markdown",
   "metadata": {},
   "source": [
    "# Exploratory Data Analysis"
   ]
  },
  {
   "cell_type": "markdown",
   "metadata": {},
   "source": [
    "### 6. Print correlation"
   ]
  },
  {
   "cell_type": "code",
   "execution_count": null,
   "metadata": {},
   "outputs": [],
   "source": [
    "cor = df.corr() # It will show correlation of only numerical variables here."
   ]
  },
  {
   "cell_type": "code",
   "execution_count": null,
   "metadata": {},
   "outputs": [],
   "source": [
    "cor[cor > .90]"
   ]
  },
  {
   "cell_type": "code",
   "execution_count": null,
   "metadata": {},
   "outputs": [],
   "source": [
    "to_drop = ['DepartureDelayin_Mins']"
   ]
  },
  {
   "cell_type": "markdown",
   "metadata": {},
   "source": [
    "- There is just one obvious correlation that we can see that is between arrival delay and departure delay"
   ]
  },
  {
   "cell_type": "markdown",
   "metadata": {},
   "source": [
    "### Feedback columns\n",
    "Seat_comfort', 'Departure.Arrival.time_convenient', 'Food_drink', 'Gate_location',\n",
    "'Inflightwifi_service', 'Inflight_entertainment', 'Online_support',\n",
    "'Ease_of_Onlinebooking', 'Onboard_service', 'Leg_room_service',\n",
    "'Baggage_handling', 'Checkin_service', 'Cleanliness', 'Online_boarding'"
   ]
  },
  {
   "cell_type": "markdown",
   "metadata": {},
   "source": [
    "### 7. Manually encode these variables(printed above) such that they follow an order based on the meaning. \n",
    "### Example: awful = 1, unpleasent = 2, decent = 3, good = 4, great = 5"
   ]
  },
  {
   "cell_type": "code",
   "execution_count": null,
   "metadata": {},
   "outputs": [],
   "source": [
    "# Manual label encoding\n",
    "# It is a bit of a subjective task. Hence, go ahead in the way you find appropriate\n",
    "\n",
    "df.replace({'extremely poor' : 0, 'poor' : 1, 'need improvement' : 2, 'acceptable' : 3, \n",
    "            'good' : 4, 'excellent' : 5, 'not_captured' : 2}, inplace = True)  \n",
    "\n",
    "df.replace({'very inconvinient' : 0, 'Inconvinient' : 1, 'need improvement' : 2, 'manageable' : 3,\n",
    "            'Convinient' : 4, 'very convinient' : 5}, inplace = True)"
   ]
  },
  {
   "cell_type": "code",
   "execution_count": null,
   "metadata": {},
   "outputs": [],
   "source": [
    "df['Departure.Arrival.time_convenient'].value_counts()"
   ]
  },
  {
   "cell_type": "markdown",
   "metadata": {},
   "source": [
    "### 8. Display countplot of every feedback attribute with respect to Customer Satisfaction. \n",
    "\n",
    "You can use sns.countplot and set hue  = 'Satisfaction'"
   ]
  },
  {
   "cell_type": "code",
   "execution_count": null,
   "metadata": {
    "scrolled": true
   },
   "outputs": [],
   "source": [
    "# We can use seaborn's countplot to plot a stacked baatchart\n",
    "sns.countplot(df.Seat_comfort, hue = df.Satisfaction) \n",
    "plt.legend(loc = 'upper right', bbox_to_anchor=(1.45, 1))   # to place the legend in a 'good' position\n",
    "\n"
   ]
  },
  {
   "cell_type": "code",
   "execution_count": null,
   "metadata": {},
   "outputs": [],
   "source": [
    "# Since there are a lot of columns that we want to plot, we can put all of them in one plot by using subplot()\n",
    "# Additionally, since there are a lot of subplots that need to be plotted, we can use a for loop\n",
    "\n",
    "plt.figure(figsize= (30,20))  # setting the figure size\n",
    "pos = 1  # we will use this variable to index each of the plots\n",
    "feedback = [ 'Seat_comfort', 'Departure.Arrival.time_convenient', 'Food_drink',\n",
    "           'Gate_location', 'Inflightwifi_service','Inflight_entertainment',\n",
    "           'Online_support', 'Ease_of_Onlinebooking', 'Onboard_service',\n",
    "           'Leg_room_service', 'Baggage_handling','Checkin_service', 'Cleanliness', 'Online_boarding']\n",
    "\n",
    "for i in feedback:\n",
    "    plt.subplot(3, 5, pos)\n",
    "    sns.countplot(df[i], hue = df.Satisfaction,\n",
    "                  palette = {'satisfied':'green','neutral or dissatisfied': 'red'})\n",
    "    plt.legend().remove()  # Remove legend to make the entire plot look 'good'\n",
    "    pos += 1  # to plot over the grid one by one   "
   ]
  },
  {
   "cell_type": "raw",
   "metadata": {},
   "source": [
    "# Alternate way\n",
    "# Using sns.barplot()\n",
    "\n",
    "plt.figure(figsize= (30,20))  \n",
    "pos = 1  \n",
    "\n",
    "for i in feedback:\n",
    "    ct = pd.crosstab(df[i], df.Satisfaction)  # Crosstab \n",
    "    stacked =ct.stack().reset_index().rename(columns={0:'value'}) #dataframe with name and count accross satisfaction levels\n",
    "    plt.subplot(3, 5, pos)\n",
    "    sns.barplot(x=stacked[i], y=stacked.value, hue=stacked.Satisfaction,\n",
    "               palette = {'satisfied':'lightgreen','neutral or dissatisfied': 'coral'}) # Barplot\n",
    "    plt.legend().remove()  # Remove legend to make the entire plot look 'good'\n",
    "    pos += 1  # to plot over the grid one by one    "
   ]
  },
  {
   "cell_type": "markdown",
   "metadata": {},
   "source": [
    "### 9. Draw all the insights that you can from the plots"
   ]
  },
  {
   "cell_type": "markdown",
   "metadata": {},
   "source": [
    "**Green and orange bars are counts of satisfied and dissatisfied customers respectively. We want to look for areas where there is a visually significant difference between the length of the stacked bars**\n",
    "\n",
    "- From the plots above,\n",
    "    - Seating comfort can cause high levels of satisfaction to customers. Hardly any people who rated highly for seat_comfort were dissatisfied\n",
    "    - A similar case with respect to inflight_entertainment. In this case, having less entertainment seems to have caused far more dissatisfaction compared to bad seating.\n",
    "    - Difference is observed in ease_of_online_booking quiet evidently"
   ]
  },
  {
   "cell_type": "markdown",
   "metadata": {},
   "source": [
    "### 10. Print the average feedback score\n",
    "- When Satisfaction columns equals 'satisfied'\n",
    "- When Satisfaction columns is not equal to 'satisfied'"
   ]
  },
  {
   "cell_type": "code",
   "execution_count": null,
   "metadata": {},
   "outputs": [],
   "source": [
    "Feedback_cols = ['Seat_comfort', 'Departure.Arrival.time_convenient',\n",
    "                 'Food_drink', 'Gate_location', 'Inflightwifi_service',\n",
    "                 'Inflight_entertainment', 'Online_support', 'Ease_of_Onlinebooking', \n",
    "                 'Onboard_service', 'Leg_room_service', 'Baggage_handling', 'Checkin_service',\n",
    "                 'Cleanliness', 'Online_boarding']"
   ]
  },
  {
   "cell_type": "code",
   "execution_count": null,
   "metadata": {},
   "outputs": [],
   "source": [
    "df.groupby('Satisfaction').mean() # Average rating of individual feedback attributes across satisfaction levels\n"
   ]
  },
  {
   "cell_type": "markdown",
   "metadata": {},
   "source": [
    "### 11. Draw any insights that you can from the above values"
   ]
  },
  {
   "cell_type": "markdown",
   "metadata": {},
   "source": [
    "- Observe the Exreme values (lower side for 'dissatisfaction' and higher side for 'satisfaction')\n",
    "- Bad seats are a strong cause for customer dissatisfication\n",
    "- Time convenience doesn't seem to be that big of a deal\n",
    "- Dissatisfied customers had some bad experiences with food but average food seems to satisfy most people\n",
    "- Gate location is totally irrelevant\n",
    "- Wifi is quiet a factor. On an average, having good wifi yeilded customer satisfaction\n",
    "- Easy online booking facility seems to be very important for customer satisfaction\n",
    "- In flight entertainment seems to be a deal breaker"
   ]
  },
  {
   "cell_type": "markdown",
   "metadata": {},
   "source": [
    "### 12. Achieve the following\n",
    "- Print the number of people who are more than just satisfied with the \"Inflight_entertainment\" and yet were dissatisfied overall\n",
    "- Print the number of people who are more than just satisfied with the \"Inflight_entertainment\" and were satisfied overall"
   ]
  },
  {
   "cell_type": "code",
   "execution_count": null,
   "metadata": {},
   "outputs": [],
   "source": [
    "df.Inflight_entertainment.value_counts()"
   ]
  },
  {
   "cell_type": "code",
   "execution_count": null,
   "metadata": {},
   "outputs": [],
   "source": [
    "# Number of people who got entertained well but were dissatisfied in the end\n",
    "entertained_and_dissatisfied = df[(df.Inflight_entertainment > 3) & (df.Satisfaction != 'satisfied')]\n",
    "print(100 * entertained_and_dissatisfied.shape[0]/df.shape[0], 'percent')"
   ]
  },
  {
   "cell_type": "code",
   "execution_count": null,
   "metadata": {},
   "outputs": [],
   "source": [
    "# Number of customers who got entertained and were satisfied with the flight\n",
    "entertained_and_satisfied = df[(df.Inflight_entertainment > 3) & (df.Satisfaction == 'satisfied')]\n",
    "print(100 * entertained_and_satisfied.shape[0]/df.shape[0], 'percent')"
   ]
  },
  {
   "cell_type": "markdown",
   "metadata": {},
   "source": [
    "### 13. Create a new column which is the mean of 'Ease_of_Onlinebooking', 'Online_boarding', 'Online_support' and name it \"avg_feedback_of_online_services\". \n",
    "\n",
    "DIY : If online services has a bad ratings then what is the average ratings of other feedback attributes? \n",
    "And how does it impact Final Satisfaction of customers?"
   ]
  },
  {
   "cell_type": "code",
   "execution_count": null,
   "metadata": {},
   "outputs": [],
   "source": [
    "online_df = df.loc[:, ['Ease_of_Onlinebooking', 'Online_boarding', 'Online_support']]\n",
    "online_df['avg_feedback_of_online_services'] = online_df.mean(axis = 1)\n",
    "\n",
    "online_df['avg_feedback_of_online_services'].value_counts()\n"
   ]
  },
  {
   "cell_type": "markdown",
   "metadata": {},
   "source": [
    "-You might find that -  **A lot of things had to go well to satisfy the customers when the only services had a bad rating**"
   ]
  },
  {
   "cell_type": "markdown",
   "metadata": {},
   "source": [
    "# Model building and evaluation"
   ]
  },
  {
   "cell_type": "markdown",
   "metadata": {},
   "source": [
    "### 14. Encode the columns \"Gender\", \"CustomerType\", \"TypeTravel\", \"Class\", \"Satisfaction\" \n",
    "- Use manual encoding or other type of encoding"
   ]
  },
  {
   "cell_type": "code",
   "execution_count": null,
   "metadata": {},
   "outputs": [],
   "source": [
    "# Number of classes in each of the categorical attributes\n",
    "for i in df.columns:\n",
    "    if df[i].dtype == 'O':\n",
    "        print(i, '->', len(df[i].value_counts()))"
   ]
  },
  {
   "cell_type": "code",
   "execution_count": null,
   "metadata": {},
   "outputs": [],
   "source": [
    "df.Class.value_counts()"
   ]
  },
  {
   "cell_type": "code",
   "execution_count": null,
   "metadata": {},
   "outputs": [],
   "source": [
    "#Manuanl Encoding\n",
    "df.replace({'Loyal Customer' : 1, 'disloyal Customer' : 0,\n",
    "               'Business travel' : 1, 'Personal Travel' : 0,\n",
    "              'Female' : 0, 'Male' : 1,\n",
    "               'satisfied' : 1, 'neutral or dissatisfied' : 0, 'Eco Plus': 0 , 'Eco': 1, 'Business': 2}, inplace = True)\n",
    "               "
   ]
  },
  {
   "cell_type": "code",
   "execution_count": null,
   "metadata": {},
   "outputs": [],
   "source": [
    "#onehotencoding\n",
    "df_coded = pd.get_dummies(df)"
   ]
  },
  {
   "cell_type": "raw",
   "metadata": {},
   "source": [
    "#Alternate method - 1\n",
    "#Use categoryencoding\n",
    "import category_encoders as ce\n",
    "cols = [\"Gender\", \"CustomerType\", \"TypeTravel\", \"Class\", \"Satisfaction\"]\n",
    "\n",
    "ce = ce.TargetEncoder()\n",
    "df[cols] = ce.fit_transform(df[cols])\n",
    "\n",
    "\n",
    "                             \n",
    "Alternate - 2 - Onehotencoding\n",
    "You can learn more about encoding here - https://kiwidamien.github.io/encoding-categorical-variables.html\n",
    "\n",
    "\n",
    "\n"
   ]
  },
  {
   "cell_type": "code",
   "execution_count": null,
   "metadata": {},
   "outputs": [],
   "source": [
    "df_coded.columns"
   ]
  },
  {
   "cell_type": "code",
   "execution_count": null,
   "metadata": {},
   "outputs": [],
   "source": [
    "df_coded.head()"
   ]
  },
  {
   "cell_type": "markdown",
   "metadata": {},
   "source": [
    "# Scaling"
   ]
  },
  {
   "cell_type": "raw",
   "metadata": {},
   "source": [
    "#MinMax Scaling - scales the data set such that all feature values are in the range [0, 1].\n",
    "#StandardScaler - removes the mean and scales the data to unit variance\n",
    "\n",
    "\n",
    "You can learn about other scalers here -\n",
    "https://scikit-learn.org/stable/auto_examples/preprocessing/plot_all_scaling.html\n"
   ]
  },
  {
   "cell_type": "code",
   "execution_count": null,
   "metadata": {
    "scrolled": true
   },
   "outputs": [],
   "source": [
    "df_coded.columns"
   ]
  },
  {
   "cell_type": "code",
   "execution_count": null,
   "metadata": {},
   "outputs": [],
   "source": [
    "#Here we are going to use StandardScaler to scale our data.\n",
    "from sklearn.preprocessing import StandardScaler\n",
    "\n",
    "scaler = StandardScaler()\n",
    "#What all columns to scale? I have preferred all columns except onehotencoded columns and target columns as\n",
    "#scaling of target feature will not change anything as they already have values like 0 and 1 only.\n",
    "#You may only scale numerical features and leave categorical features as required according to business problem need and results.\n",
    "cols_to_scale = ['Seat_comfort', 'Departure.Arrival.time_convenient',\n",
    "       'Food_drink', 'Gate_location', 'Inflightwifi_service',\n",
    "       'Inflight_entertainment', 'Online_support', 'Ease_of_Onlinebooking',\n",
    "       'Onboard_service', 'Leg_room_service', 'Baggage_handling',\n",
    "       'Checkin_service', 'Cleanliness', 'Online_boarding',\n",
    "       'Age', 'Flight_Distance','DepartureDelayin_Mins', 'ArrivalDelayin_Mins']\n",
    "\n",
    "df_coded[cols_to_scale] = scaler.fit_transform(df_coded[cols_to_scale].to_numpy())\n",
    "\n",
    "#scaler.fit\n",
    "#scaler.transform\n",
    "\n",
    "#df_coded - scaling\n",
    "\n",
    "#X,y - scaling\n",
    "\n",
    "#X_train, y_train, - scaling\n",
    "#use the same instance in the test data\n",
    "#X_test, y_test\n",
    "\n",
    "\n",
    "\n",
    "\n",
    "\n"
   ]
  },
  {
   "cell_type": "code",
   "execution_count": null,
   "metadata": {
    "scrolled": true
   },
   "outputs": [],
   "source": [
    "df_coded.describe()"
   ]
  },
  {
   "cell_type": "code",
   "execution_count": null,
   "metadata": {},
   "outputs": [],
   "source": [
    "df_coded.head()"
   ]
  },
  {
   "cell_type": "code",
   "execution_count": null,
   "metadata": {},
   "outputs": [],
   "source": [
    "df = df_coded"
   ]
  },
  {
   "cell_type": "markdown",
   "metadata": {},
   "source": [
    "### 15. Seperate the column \"Satisfaction\" from the rest of the columns\n",
    "- Create X and y"
   ]
  },
  {
   "cell_type": "code",
   "execution_count": null,
   "metadata": {},
   "outputs": [],
   "source": [
    "#We are going to drop highly correlated feature which we have found before as there features might affect our models.\n",
    "to_drop "
   ]
  },
  {
   "cell_type": "code",
   "execution_count": null,
   "metadata": {},
   "outputs": [],
   "source": [
    "X = df.drop(columns= ['Satisfaction', 'DepartureDelayin_Mins'])  # Seperating the target and the rest\n",
    "#X = df.drop(columns= ['Satisfaction'])\n",
    "y = df.Satisfaction"
   ]
  },
  {
   "cell_type": "markdown",
   "metadata": {},
   "source": [
    "### 16. Create train and test datasets\n",
    "- Use train_test_split"
   ]
  },
  {
   "cell_type": "code",
   "execution_count": null,
   "metadata": {},
   "outputs": [],
   "source": [
    "from sklearn.model_selection import train_test_split # Splitting the data for training and testing out model\n",
    "\n",
    "X_train, X_test, y_train, y_test = train_test_split(X,y, test_size=0.25,random_state = 1, stratify = y)"
   ]
  },
  {
   "cell_type": "code",
   "execution_count": null,
   "metadata": {},
   "outputs": [],
   "source": [
    "y_train.value_counts()"
   ]
  },
  {
   "cell_type": "code",
   "execution_count": null,
   "metadata": {},
   "outputs": [],
   "source": [
    "y_test.value_counts()"
   ]
  },
  {
   "cell_type": "code",
   "execution_count": null,
   "metadata": {},
   "outputs": [],
   "source": [
    "X_train.dtypes"
   ]
  },
  {
   "cell_type": "markdown",
   "metadata": {},
   "source": [
    "### 17. Print accuracy\n",
    "- Print accuracy on test data using below models\n",
    "- Logistic regression model trained using all the attributes\n",
    "- Logistic regression model trained using only the feedback columns\n",
    "- Decision tree model trained using all the attributes\n",
    "- Random forest model trained using all the attributes"
   ]
  },
  {
   "cell_type": "markdown",
   "metadata": {},
   "source": [
    "Logistic Regression"
   ]
  },
  {
   "cell_type": "code",
   "execution_count": null,
   "metadata": {},
   "outputs": [],
   "source": [
    "#Logistic Regression with only feedback columns\n",
    "from sklearn.linear_model import LogisticRegression #importing logistic regression\n",
    "\n",
    "lr = LogisticRegression()\n",
    "\n",
    "lr.fit(X_train, y_train)\n",
    "\n",
    "pred = lr.predict(X_test)  # Predictions from logistic regression\n",
    "score1 = lr.score(X_test, y_test)\n",
    "score1"
   ]
  },
  {
   "cell_type": "markdown",
   "metadata": {},
   "source": [
    "Predicting customer satisfaction solely based on the feedback"
   ]
  },
  {
   "cell_type": "code",
   "execution_count": null,
   "metadata": {},
   "outputs": [],
   "source": [
    "feedback"
   ]
  },
  {
   "cell_type": "code",
   "execution_count": null,
   "metadata": {},
   "outputs": [],
   "source": [
    "#Logistic Regression with only feedback columns\n",
    "X_train, X_test, y_train, y_test = train_test_split(X.loc[:,feedback], y, random_state = 1, stratify = y)\n",
    "\n",
    "lr = LogisticRegression()\n",
    "\n",
    "lr.fit(X_train, y_train)\n",
    "\n",
    "pred = lr.predict(X_test)\n",
    "\n",
    "score2 = lr.score(X_test, y_test)\n",
    "\n",
    "print(f'Number of features used = {len(X_train.columns)}')\n",
    "print(f'Accuracy in predicting customer satisfaction solely based on the feedback = {score2}')"
   ]
  },
  {
   "cell_type": "markdown",
   "metadata": {},
   "source": [
    "Decision Tree"
   ]
  },
  {
   "cell_type": "code",
   "execution_count": null,
   "metadata": {},
   "outputs": [],
   "source": [
    "from sklearn.tree import DecisionTreeClassifier\n",
    "\n",
    "X_train, X_test, y_train, y_test = train_test_split(X, y, random_state = 1)\n",
    "\n",
    "dt = DecisionTreeClassifier()\n",
    "\n",
    "dt.fit(X_train, y_train)\n",
    "\n",
    "score3 = dt.score(X_test, y_test)\n",
    "pred = dt.predict(X_test)\n",
    "\n",
    "print(f\"Decision tree acccuracy score: {score3}\")"
   ]
  },
  {
   "cell_type": "markdown",
   "metadata": {},
   "source": [
    "Random Forest"
   ]
  },
  {
   "cell_type": "code",
   "execution_count": null,
   "metadata": {},
   "outputs": [],
   "source": [
    "from sklearn.ensemble import RandomForestClassifier\n",
    "\n",
    "rf = RandomForestClassifier()\n",
    "\n",
    "rf.fit(X_train, y_train)\n",
    "\n",
    "score4 = rf.score(X_test, y_test)\n",
    "\n",
    "print(f'Random Forest accuracy score = {score4}')"
   ]
  },
  {
   "cell_type": "markdown",
   "metadata": {},
   "source": [
    "### 18. Print feature importance\n",
    "- Print feature importance of Random Forest\n",
    "\n"
   ]
  },
  {
   "cell_type": "code",
   "execution_count": null,
   "metadata": {},
   "outputs": [],
   "source": [
    "#Decision Tree \n",
    "pd.Series(dt.feature_importances_, X_train.columns ).sort_values(ascending= False)"
   ]
  },
  {
   "cell_type": "code",
   "execution_count": null,
   "metadata": {
    "scrolled": true
   },
   "outputs": [],
   "source": [
    "#RandomForest\n",
    "pd.Series(rf.feature_importances_, X_train.columns).sort_values(ascending= False)\n",
    "## Alternate Way\n",
    "##pd.DataFrame({'Attribute': X_train.columns, 'Importance': rf.feature_importances_}) "
   ]
  },
  {
   "cell_type": "markdown",
   "metadata": {},
   "source": [
    "# Model Tuning"
   ]
  },
  {
   "cell_type": "markdown",
   "metadata": {},
   "source": [
    "### 19. Print cross validation score\n",
    "- Decision tree model trained using all the attributes\n",
    "- Random Forest model trained using all the attributes\n",
    "- Fine tuned (using Grid Search or Random Search) Random Forest model\n",
    "\n",
    "**Display all the scores above with their respective models in a single dataframe**\n",
    "\n"
   ]
  },
  {
   "cell_type": "markdown",
   "metadata": {},
   "source": [
    "Cross Validation Score"
   ]
  },
  {
   "cell_type": "code",
   "execution_count": null,
   "metadata": {},
   "outputs": [],
   "source": [
    "from sklearn.model_selection import cross_val_score\n",
    "#For Decision Tree dt\n",
    "score5 = cross_val_score(dt, X, y, cv = 10).mean()\n",
    "print(f'Cross validation score of Decision tree = {score5}')"
   ]
  },
  {
   "cell_type": "code",
   "execution_count": null,
   "metadata": {},
   "outputs": [],
   "source": [
    "#Random Forest rf\n",
    "score6 = cross_val_score(rf, X, y, cv = 10).mean()\n",
    "print(f'Cross validation score of Random forest = {score6}')"
   ]
  },
  {
   "cell_type": "markdown",
   "metadata": {},
   "source": [
    "Parameter Tuning Using GridDSearch\n",
    "\n",
    "Doing it only for RandomForest as the mean CV score is better."
   ]
  },
  {
   "cell_type": "code",
   "execution_count": null,
   "metadata": {},
   "outputs": [],
   "source": [
    "from sklearn.model_selection import GridSearchCV\n",
    "\n",
    "parameters = {'bootstrap': [True],\n",
    " 'max_depth': [20, 30, 40],\n",
    " 'max_features': ['log2', 'sqrt'],\n",
    " 'min_samples_leaf': [1, 2, 4],\n",
    " 'n_estimators': [50, 100]}\n",
    "\n",
    "\n",
    "clf = GridSearchCV(RandomForestClassifier(), parameters, cv = 5, verbose = 2, n_jobs= 4)\n",
    "clf.fit(X, y)\n",
    "\n",
    "clf.best_params_\n",
    "\n",
    "\n",
    "# Best parameters\n",
    "#{'bootstrap': True,\n",
    "# 'max_depth': 30,\n",
    "# 'max_features': 'sqrt',\n",
    "# 'min_samples_leaf': 1,\n",
    "#  'n_estimators': 100} \n"
   ]
  },
  {
   "cell_type": "code",
   "execution_count": null,
   "metadata": {},
   "outputs": [],
   "source": [
    "rf = RandomForestClassifier(bootstrap= True,\n",
    " max_depth= 30,\n",
    " max_features= 'log2',\n",
    " min_samples_leaf= 1,\n",
    " n_estimators= 100)\n",
    "\n",
    "rf.fit(X_train, y_train)\n",
    "\n",
    "score7 = cross_val_score(rf, X_train, y_train, cv = 5).mean()\n",
    "\n",
    "\n",
    "score7\n",
    "    "
   ]
  },
  {
   "cell_type": "code",
   "execution_count": null,
   "metadata": {},
   "outputs": [],
   "source": [
    "data = {'Technique' : ['Logistic Regression', \"LR with only feedback columns \", 'Decision tree',\n",
    "                       'Random forest', 'DT CV','RF CV','Tuned RF CV'],\n",
    "       'Score' : [score1, score2, score3, score4, score5, score6, score7] }\n",
    "\n",
    "result = pd.DataFrame(data)"
   ]
  },
  {
   "cell_type": "code",
   "execution_count": null,
   "metadata": {},
   "outputs": [],
   "source": [
    "result"
   ]
  },
  {
   "cell_type": "code",
   "execution_count": null,
   "metadata": {},
   "outputs": [],
   "source": [
    "X_train.shape"
   ]
  },
  {
   "cell_type": "markdown",
   "metadata": {},
   "source": [
    "# Dimensionality Reduction"
   ]
  },
  {
   "cell_type": "markdown",
   "metadata": {},
   "source": [
    "### 20. Perform the following tasks\n",
    "\n",
    "- Use PCA to reduce the number of dimensions such that the components capture 95% of the data\n",
    "- Train Logistic Regression, Decision Tree and Random Forest using the principle components\n",
    "- Calculate the accuracy scores for each of the models\n",
    "- Calculate the cross validation scores for each of the above models trained using principle components"
   ]
  },
  {
   "cell_type": "code",
   "execution_count": null,
   "metadata": {},
   "outputs": [],
   "source": [
    "# We need to scale the data before using PCA which we have already done before\n"
   ]
  },
  {
   "cell_type": "code",
   "execution_count": null,
   "metadata": {},
   "outputs": [],
   "source": [
    "from sklearn.decomposition import PCA\n",
    "pca = PCA(10)# Initialize PCA object\n",
    "#pca = PCA(.95)\n",
    "pca.fit(X_train)  # Fit the PCA object with the train data"
   ]
  },
  {
   "cell_type": "code",
   "execution_count": null,
   "metadata": {},
   "outputs": [],
   "source": [
    "X_train_pca = pca.transform(X_train)  # PCs for the train data\n",
    "X_test_pca = pca.transform(X_test)    # PCs for the test data\n",
    "\n",
    "X_train_pca.shape, X_test_pca.shape"
   ]
  },
  {
   "cell_type": "code",
   "execution_count": null,
   "metadata": {},
   "outputs": [],
   "source": [
    "pca.explained_variance_"
   ]
  },
  {
   "cell_type": "code",
   "execution_count": null,
   "metadata": {},
   "outputs": [],
   "source": [
    "lr = LogisticRegression()\n",
    "lr.fit(X_train_pca, y_train)\n",
    "score9 = lr.score(X_test_pca, y_test)\n",
    "\n",
    "\n",
    "dt = DecisionTreeClassifier()\n",
    "dt.fit(X_train_pca, y_train)\n",
    "score10 = dt.score(X_test_pca, y_test)\n",
    "\n",
    "rf = RandomForestClassifier(bootstrap = True, max_depth = 30, max_features ='sqrt', min_samples_leaf = 1, n_estimators = 100)\n",
    "rf.fit(X_train_pca, y_train)\n",
    "score11 = rf.score(X_test_pca, y_test)"
   ]
  },
  {
   "cell_type": "code",
   "execution_count": null,
   "metadata": {},
   "outputs": [],
   "source": [
    "score11"
   ]
  },
  {
   "cell_type": "code",
   "execution_count": null,
   "metadata": {},
   "outputs": [],
   "source": [
    "lr = LogisticRegression()\n",
    "score12 = cross_val_score(lr,X_train_pca, y_train , cv = 5).mean()\n",
    "\n",
    "dt = DecisionTreeClassifier()\n",
    "score13 = cross_val_score(dt, X_train_pca, y_train, cv = 5).mean()\n",
    "\n",
    "rf = RandomForestClassifier(bootstrap = True, max_depth = 10, max_features ='sqrt', min_samples_leaf = 1, n_estimators = 100)\n",
    "score14 = cross_val_score(rf, X_train_pca, y_train, cv = 5).mean()"
   ]
  },
  {
   "cell_type": "code",
   "execution_count": null,
   "metadata": {},
   "outputs": [],
   "source": [
    "result = pd.DataFrame({'Algorithm' : ['Logistic Regression', 'Deision Tree', 'Random Forest'],\n",
    "                      'Accuracy_score': [score9, score10, score11],\n",
    "                      'Cross_val_score' : [score12, score13, score14]})\n",
    "result"
   ]
  },
  {
   "cell_type": "markdown",
   "metadata": {},
   "source": [
    "# Pipeline - Automate and Simplyfy the process"
   ]
  },
  {
   "cell_type": "code",
   "execution_count": 3,
   "metadata": {},
   "outputs": [],
   "source": [
    "import pandas as pd\n",
    "import numpy as np\n",
    "\n",
    "from sklearn.compose import ColumnTransformer\n",
    "from sklearn.pipeline import Pipeline\n",
    "from sklearn.impute import SimpleImputer\n",
    "from sklearn.preprocessing import StandardScaler,LabelEncoder, OneHotEncoder, OrdinalEncoder\n",
    "from sklearn.linear_model import LogisticRegression\n",
    "from sklearn.model_selection import train_test_split, GridSearchCV\n",
    "from sklearn.ensemble import RandomForestClassifier\n",
    "\n",
    "\n",
    "\n",
    "numeric_features = ['Age', 'Flight_Distance', 'DepartureDelayin_Mins'\n",
    "       ]\n",
    "\n",
    "feedback_features = ['Seat_comfort', 'Departure.Arrival.time_convenient', 'Food_drink',\n",
    "       'Gate_location', 'Inflightwifi_service', 'Inflight_entertainment',\n",
    "       'Online_support', 'Ease_of_Onlinebooking', 'Onboard_service',\n",
    "       'Leg_room_service', 'Baggage_handling', 'Checkin_service',\n",
    "       'Cleanliness', 'Online_boarding']\n",
    "\n",
    "other_cat_cols =  ['Gender', 'CustomerType', 'TypeTravel', 'Class']\n",
    "\n",
    "\n",
    "#TRANSFORMERS\n",
    "\n",
    "\n",
    "\n",
    "numeric_transformer = Pipeline(steps=[\n",
    "    ('imputer', SimpleImputer(strategy='mean')),\n",
    "    ('scaler', StandardScaler())])\n",
    "\n",
    "\n",
    "feedback_feature_transformer = Pipeline(steps=[\n",
    "    ('imputer', SimpleImputer(strategy='constant', fill_value='not_captured')),\n",
    "    ('label_encoder', OrdinalEncoder()),\n",
    "    ('scaler', StandardScaler())])\n",
    "\n",
    "\n",
    "other_cat_transformer = Pipeline(steps=[\n",
    "    ('imputer', SimpleImputer(strategy='constant', fill_value='not_captured')),\n",
    "    ('onehot', OneHotEncoder(handle_unknown='ignore'))])\n",
    "\n",
    "\n",
    "preprocessor = ColumnTransformer(\n",
    "    transformers=[\n",
    "        ('num', numeric_transformer, numeric_features),\n",
    "        ('feed_col', feedback_feature_transformer, feedback_features),\n",
    "        ('other_cat_col', other_cat_transformer, other_cat_cols )\n",
    "    ])"
   ]
  },
  {
   "cell_type": "code",
   "execution_count": 4,
   "metadata": {},
   "outputs": [],
   "source": [
    "#Adding into Pipeline\n",
    "clf = Pipeline(steps=[('preprocessor', preprocessor),\n",
    "                      ('classifier', RandomForestClassifier(bootstrap= True,max_depth= 30,max_features= 'sqrt',min_samples_leaf= 1,n_estimators= 100))])"
   ]
  },
  {
   "cell_type": "code",
   "execution_count": 5,
   "metadata": {},
   "outputs": [],
   "source": [
    "#Taking the raw data\n",
    "data = df2.set_index(\"Id\").join(df1.set_index(\"ID\"))\n"
   ]
  },
  {
   "cell_type": "code",
   "execution_count": 6,
   "metadata": {},
   "outputs": [
    {
     "data": {
      "text/plain": [
       "Index(['Satisfaction', 'Seat_comfort', 'Departure.Arrival.time_convenient',\n",
       "       'Food_drink', 'Gate_location', 'Inflightwifi_service',\n",
       "       'Inflight_entertainment', 'Online_support', 'Ease_of_Onlinebooking',\n",
       "       'Onboard_service', 'Leg_room_service', 'Baggage_handling',\n",
       "       'Checkin_service', 'Cleanliness', 'Online_boarding', 'Gender',\n",
       "       'CustomerType', 'Age', 'TypeTravel', 'Class', 'Flight_Distance',\n",
       "       'DepartureDelayin_Mins', 'ArrivalDelayin_Mins'],\n",
       "      dtype='object')"
      ]
     },
     "execution_count": 6,
     "metadata": {},
     "output_type": "execute_result"
    }
   ],
   "source": [
    "data.columns"
   ]
  },
  {
   "cell_type": "code",
   "execution_count": 7,
   "metadata": {},
   "outputs": [
    {
     "data": {
      "text/html": [
       "<div>\n",
       "<style scoped>\n",
       "    .dataframe tbody tr th:only-of-type {\n",
       "        vertical-align: middle;\n",
       "    }\n",
       "\n",
       "    .dataframe tbody tr th {\n",
       "        vertical-align: top;\n",
       "    }\n",
       "\n",
       "    .dataframe thead th {\n",
       "        text-align: right;\n",
       "    }\n",
       "</style>\n",
       "<table border=\"1\" class=\"dataframe\">\n",
       "  <thead>\n",
       "    <tr style=\"text-align: right;\">\n",
       "      <th></th>\n",
       "      <th>Satisfaction</th>\n",
       "      <th>Seat_comfort</th>\n",
       "      <th>Departure.Arrival.time_convenient</th>\n",
       "      <th>Food_drink</th>\n",
       "      <th>Gate_location</th>\n",
       "      <th>Inflightwifi_service</th>\n",
       "      <th>Inflight_entertainment</th>\n",
       "      <th>Online_support</th>\n",
       "      <th>Ease_of_Onlinebooking</th>\n",
       "      <th>Onboard_service</th>\n",
       "      <th>...</th>\n",
       "      <th>Cleanliness</th>\n",
       "      <th>Online_boarding</th>\n",
       "      <th>Gender</th>\n",
       "      <th>CustomerType</th>\n",
       "      <th>Age</th>\n",
       "      <th>TypeTravel</th>\n",
       "      <th>Class</th>\n",
       "      <th>Flight_Distance</th>\n",
       "      <th>DepartureDelayin_Mins</th>\n",
       "      <th>ArrivalDelayin_Mins</th>\n",
       "    </tr>\n",
       "    <tr>\n",
       "      <th>Id</th>\n",
       "      <th></th>\n",
       "      <th></th>\n",
       "      <th></th>\n",
       "      <th></th>\n",
       "      <th></th>\n",
       "      <th></th>\n",
       "      <th></th>\n",
       "      <th></th>\n",
       "      <th></th>\n",
       "      <th></th>\n",
       "      <th></th>\n",
       "      <th></th>\n",
       "      <th></th>\n",
       "      <th></th>\n",
       "      <th></th>\n",
       "      <th></th>\n",
       "      <th></th>\n",
       "      <th></th>\n",
       "      <th></th>\n",
       "      <th></th>\n",
       "      <th></th>\n",
       "    </tr>\n",
       "  </thead>\n",
       "  <tbody>\n",
       "    <tr>\n",
       "      <th>198671</th>\n",
       "      <td>neutral or dissatisfied</td>\n",
       "      <td>poor</td>\n",
       "      <td>acceptable</td>\n",
       "      <td>acceptable</td>\n",
       "      <td>manageable</td>\n",
       "      <td>poor</td>\n",
       "      <td>need improvement</td>\n",
       "      <td>poor</td>\n",
       "      <td>poor</td>\n",
       "      <td>acceptable</td>\n",
       "      <td>...</td>\n",
       "      <td>need improvement</td>\n",
       "      <td>poor</td>\n",
       "      <td>Male</td>\n",
       "      <td>Loyal Customer</td>\n",
       "      <td>30</td>\n",
       "      <td>Business travel</td>\n",
       "      <td>Business</td>\n",
       "      <td>1354</td>\n",
       "      <td>11</td>\n",
       "      <td>8.0</td>\n",
       "    </tr>\n",
       "    <tr>\n",
       "      <th>193378</th>\n",
       "      <td>satisfied</td>\n",
       "      <td>excellent</td>\n",
       "      <td>need improvement</td>\n",
       "      <td>excellent</td>\n",
       "      <td>Convinient</td>\n",
       "      <td>acceptable</td>\n",
       "      <td>excellent</td>\n",
       "      <td>acceptable</td>\n",
       "      <td>acceptable</td>\n",
       "      <td>good</td>\n",
       "      <td>...</td>\n",
       "      <td>excellent</td>\n",
       "      <td>acceptable</td>\n",
       "      <td>Female</td>\n",
       "      <td>disloyal Customer</td>\n",
       "      <td>20</td>\n",
       "      <td>NaN</td>\n",
       "      <td>Business</td>\n",
       "      <td>1439</td>\n",
       "      <td>6</td>\n",
       "      <td>0.0</td>\n",
       "    </tr>\n",
       "    <tr>\n",
       "      <th>174522</th>\n",
       "      <td>satisfied</td>\n",
       "      <td>good</td>\n",
       "      <td>good</td>\n",
       "      <td>good</td>\n",
       "      <td>manageable</td>\n",
       "      <td>acceptable</td>\n",
       "      <td>excellent</td>\n",
       "      <td>excellent</td>\n",
       "      <td>need improvement</td>\n",
       "      <td>need improvement</td>\n",
       "      <td>...</td>\n",
       "      <td>need improvement</td>\n",
       "      <td>excellent</td>\n",
       "      <td>Female</td>\n",
       "      <td>NaN</td>\n",
       "      <td>55</td>\n",
       "      <td>Personal Travel</td>\n",
       "      <td>Eco Plus</td>\n",
       "      <td>976</td>\n",
       "      <td>4</td>\n",
       "      <td>0.0</td>\n",
       "    </tr>\n",
       "    <tr>\n",
       "      <th>191830</th>\n",
       "      <td>satisfied</td>\n",
       "      <td>good</td>\n",
       "      <td>good</td>\n",
       "      <td>good</td>\n",
       "      <td>manageable</td>\n",
       "      <td>poor</td>\n",
       "      <td>good</td>\n",
       "      <td>poor</td>\n",
       "      <td>poor</td>\n",
       "      <td>poor</td>\n",
       "      <td>...</td>\n",
       "      <td>acceptable</td>\n",
       "      <td>poor</td>\n",
       "      <td>Male</td>\n",
       "      <td>disloyal Customer</td>\n",
       "      <td>24</td>\n",
       "      <td>Business travel</td>\n",
       "      <td>Eco</td>\n",
       "      <td>2291</td>\n",
       "      <td>0</td>\n",
       "      <td>0.0</td>\n",
       "    </tr>\n",
       "    <tr>\n",
       "      <th>221497</th>\n",
       "      <td>satisfied</td>\n",
       "      <td>good</td>\n",
       "      <td>good</td>\n",
       "      <td>NaN</td>\n",
       "      <td>Convinient</td>\n",
       "      <td>good</td>\n",
       "      <td>good</td>\n",
       "      <td>good</td>\n",
       "      <td>good</td>\n",
       "      <td>good</td>\n",
       "      <td>...</td>\n",
       "      <td>good</td>\n",
       "      <td>good</td>\n",
       "      <td>Male</td>\n",
       "      <td>Loyal Customer</td>\n",
       "      <td>32</td>\n",
       "      <td>Business travel</td>\n",
       "      <td>Business</td>\n",
       "      <td>3974</td>\n",
       "      <td>0</td>\n",
       "      <td>0.0</td>\n",
       "    </tr>\n",
       "  </tbody>\n",
       "</table>\n",
       "<p>5 rows × 23 columns</p>\n",
       "</div>"
      ],
      "text/plain": [
       "                   Satisfaction Seat_comfort  \\\n",
       "Id                                             \n",
       "198671  neutral or dissatisfied         poor   \n",
       "193378                satisfied    excellent   \n",
       "174522                satisfied         good   \n",
       "191830                satisfied         good   \n",
       "221497                satisfied         good   \n",
       "\n",
       "       Departure.Arrival.time_convenient  Food_drink Gate_location  \\\n",
       "Id                                                                   \n",
       "198671                        acceptable  acceptable    manageable   \n",
       "193378                  need improvement   excellent    Convinient   \n",
       "174522                              good        good    manageable   \n",
       "191830                              good        good    manageable   \n",
       "221497                              good         NaN    Convinient   \n",
       "\n",
       "       Inflightwifi_service Inflight_entertainment Online_support  \\\n",
       "Id                                                                  \n",
       "198671                 poor       need improvement           poor   \n",
       "193378           acceptable              excellent     acceptable   \n",
       "174522           acceptable              excellent      excellent   \n",
       "191830                 poor                   good           poor   \n",
       "221497                 good                   good           good   \n",
       "\n",
       "       Ease_of_Onlinebooking   Onboard_service  ...       Cleanliness  \\\n",
       "Id                                              ...                     \n",
       "198671                  poor        acceptable  ...  need improvement   \n",
       "193378            acceptable              good  ...         excellent   \n",
       "174522      need improvement  need improvement  ...  need improvement   \n",
       "191830                  poor              poor  ...        acceptable   \n",
       "221497                  good              good  ...              good   \n",
       "\n",
       "       Online_boarding  Gender       CustomerType Age       TypeTravel  \\\n",
       "Id                                                                       \n",
       "198671            poor    Male     Loyal Customer  30  Business travel   \n",
       "193378      acceptable  Female  disloyal Customer  20              NaN   \n",
       "174522       excellent  Female                NaN  55  Personal Travel   \n",
       "191830            poor    Male  disloyal Customer  24  Business travel   \n",
       "221497            good    Male     Loyal Customer  32  Business travel   \n",
       "\n",
       "           Class  Flight_Distance DepartureDelayin_Mins ArrivalDelayin_Mins  \n",
       "Id                                                                           \n",
       "198671  Business             1354                    11                 8.0  \n",
       "193378  Business             1439                     6                 0.0  \n",
       "174522  Eco Plus              976                     4                 0.0  \n",
       "191830       Eco             2291                     0                 0.0  \n",
       "221497  Business             3974                     0                 0.0  \n",
       "\n",
       "[5 rows x 23 columns]"
      ]
     },
     "execution_count": 7,
     "metadata": {},
     "output_type": "execute_result"
    }
   ],
   "source": [
    "data.head()"
   ]
  },
  {
   "cell_type": "code",
   "execution_count": 9,
   "metadata": {},
   "outputs": [
    {
     "data": {
      "text/plain": [
       "(90915, 23)"
      ]
     },
     "execution_count": 9,
     "metadata": {},
     "output_type": "execute_result"
    }
   ],
   "source": [
    "data.shape"
   ]
  },
  {
   "cell_type": "code",
   "execution_count": 10,
   "metadata": {},
   "outputs": [],
   "source": [
    "#Getting X and y\n",
    "X1 = data.drop(['Satisfaction', 'ArrivalDelayin_Mins'], axis = 1)\n",
    "y1 = pd.get_dummies(data['Satisfaction'])"
   ]
  },
  {
   "cell_type": "code",
   "execution_count": 12,
   "metadata": {},
   "outputs": [],
   "source": [
    "#Data SPlit\n",
    "X_trains, X_tests, y_trains, y_tests = train_test_split(X1,y1, random_state = 10, stratify = y1)"
   ]
  },
  {
   "cell_type": "code",
   "execution_count": 13,
   "metadata": {},
   "outputs": [
    {
     "data": {
      "text/html": [
       "<style>#sk-container-id-1 {color: black;}#sk-container-id-1 pre{padding: 0;}#sk-container-id-1 div.sk-toggleable {background-color: white;}#sk-container-id-1 label.sk-toggleable__label {cursor: pointer;display: block;width: 100%;margin-bottom: 0;padding: 0.3em;box-sizing: border-box;text-align: center;}#sk-container-id-1 label.sk-toggleable__label-arrow:before {content: \"▸\";float: left;margin-right: 0.25em;color: #696969;}#sk-container-id-1 label.sk-toggleable__label-arrow:hover:before {color: black;}#sk-container-id-1 div.sk-estimator:hover label.sk-toggleable__label-arrow:before {color: black;}#sk-container-id-1 div.sk-toggleable__content {max-height: 0;max-width: 0;overflow: hidden;text-align: left;background-color: #f0f8ff;}#sk-container-id-1 div.sk-toggleable__content pre {margin: 0.2em;color: black;border-radius: 0.25em;background-color: #f0f8ff;}#sk-container-id-1 input.sk-toggleable__control:checked~div.sk-toggleable__content {max-height: 200px;max-width: 100%;overflow: auto;}#sk-container-id-1 input.sk-toggleable__control:checked~label.sk-toggleable__label-arrow:before {content: \"▾\";}#sk-container-id-1 div.sk-estimator input.sk-toggleable__control:checked~label.sk-toggleable__label {background-color: #d4ebff;}#sk-container-id-1 div.sk-label input.sk-toggleable__control:checked~label.sk-toggleable__label {background-color: #d4ebff;}#sk-container-id-1 input.sk-hidden--visually {border: 0;clip: rect(1px 1px 1px 1px);clip: rect(1px, 1px, 1px, 1px);height: 1px;margin: -1px;overflow: hidden;padding: 0;position: absolute;width: 1px;}#sk-container-id-1 div.sk-estimator {font-family: monospace;background-color: #f0f8ff;border: 1px dotted black;border-radius: 0.25em;box-sizing: border-box;margin-bottom: 0.5em;}#sk-container-id-1 div.sk-estimator:hover {background-color: #d4ebff;}#sk-container-id-1 div.sk-parallel-item::after {content: \"\";width: 100%;border-bottom: 1px solid gray;flex-grow: 1;}#sk-container-id-1 div.sk-label:hover label.sk-toggleable__label {background-color: #d4ebff;}#sk-container-id-1 div.sk-serial::before {content: \"\";position: absolute;border-left: 1px solid gray;box-sizing: border-box;top: 0;bottom: 0;left: 50%;z-index: 0;}#sk-container-id-1 div.sk-serial {display: flex;flex-direction: column;align-items: center;background-color: white;padding-right: 0.2em;padding-left: 0.2em;position: relative;}#sk-container-id-1 div.sk-item {position: relative;z-index: 1;}#sk-container-id-1 div.sk-parallel {display: flex;align-items: stretch;justify-content: center;background-color: white;position: relative;}#sk-container-id-1 div.sk-item::before, #sk-container-id-1 div.sk-parallel-item::before {content: \"\";position: absolute;border-left: 1px solid gray;box-sizing: border-box;top: 0;bottom: 0;left: 50%;z-index: -1;}#sk-container-id-1 div.sk-parallel-item {display: flex;flex-direction: column;z-index: 1;position: relative;background-color: white;}#sk-container-id-1 div.sk-parallel-item:first-child::after {align-self: flex-end;width: 50%;}#sk-container-id-1 div.sk-parallel-item:last-child::after {align-self: flex-start;width: 50%;}#sk-container-id-1 div.sk-parallel-item:only-child::after {width: 0;}#sk-container-id-1 div.sk-dashed-wrapped {border: 1px dashed gray;margin: 0 0.4em 0.5em 0.4em;box-sizing: border-box;padding-bottom: 0.4em;background-color: white;}#sk-container-id-1 div.sk-label label {font-family: monospace;font-weight: bold;display: inline-block;line-height: 1.2em;}#sk-container-id-1 div.sk-label-container {text-align: center;}#sk-container-id-1 div.sk-container {/* jupyter's `normalize.less` sets `[hidden] { display: none; }` but bootstrap.min.css set `[hidden] { display: none !important; }` so we also need the `!important` here to be able to override the default hidden behavior on the sphinx rendered scikit-learn.org. See: https://github.com/scikit-learn/scikit-learn/issues/21755 */display: inline-block !important;position: relative;}#sk-container-id-1 div.sk-text-repr-fallback {display: none;}</style><div id=\"sk-container-id-1\" class=\"sk-top-container\"><div class=\"sk-text-repr-fallback\"><pre>Pipeline(steps=[(&#x27;preprocessor&#x27;,\n",
       "                 ColumnTransformer(transformers=[(&#x27;num&#x27;,\n",
       "                                                  Pipeline(steps=[(&#x27;imputer&#x27;,\n",
       "                                                                   SimpleImputer()),\n",
       "                                                                  (&#x27;scaler&#x27;,\n",
       "                                                                   StandardScaler())]),\n",
       "                                                  [&#x27;Age&#x27;, &#x27;Flight_Distance&#x27;,\n",
       "                                                   &#x27;DepartureDelayin_Mins&#x27;]),\n",
       "                                                 (&#x27;feed_col&#x27;,\n",
       "                                                  Pipeline(steps=[(&#x27;imputer&#x27;,\n",
       "                                                                   SimpleImputer(fill_value=&#x27;not_captured&#x27;,\n",
       "                                                                                 strategy=&#x27;constant&#x27;)),\n",
       "                                                                  (&#x27;label_encoder&#x27;,\n",
       "                                                                   OrdinalEncoder()),\n",
       "                                                                  (&#x27;scaler&#x27;,\n",
       "                                                                   Standard...\n",
       "                                                   &#x27;Leg_room_service&#x27;,\n",
       "                                                   &#x27;Baggage_handling&#x27;,\n",
       "                                                   &#x27;Checkin_service&#x27;,\n",
       "                                                   &#x27;Cleanliness&#x27;,\n",
       "                                                   &#x27;Online_boarding&#x27;]),\n",
       "                                                 (&#x27;other_cat_col&#x27;,\n",
       "                                                  Pipeline(steps=[(&#x27;imputer&#x27;,\n",
       "                                                                   SimpleImputer(fill_value=&#x27;not_captured&#x27;,\n",
       "                                                                                 strategy=&#x27;constant&#x27;)),\n",
       "                                                                  (&#x27;onehot&#x27;,\n",
       "                                                                   OneHotEncoder(handle_unknown=&#x27;ignore&#x27;))]),\n",
       "                                                  [&#x27;Gender&#x27;, &#x27;CustomerType&#x27;,\n",
       "                                                   &#x27;TypeTravel&#x27;, &#x27;Class&#x27;])])),\n",
       "                (&#x27;classifier&#x27;, RandomForestClassifier(max_depth=30))])</pre><b>In a Jupyter environment, please rerun this cell to show the HTML representation or trust the notebook. <br />On GitHub, the HTML representation is unable to render, please try loading this page with nbviewer.org.</b></div><div class=\"sk-container\" hidden><div class=\"sk-item sk-dashed-wrapped\"><div class=\"sk-label-container\"><div class=\"sk-label sk-toggleable\"><input class=\"sk-toggleable__control sk-hidden--visually\" id=\"sk-estimator-id-1\" type=\"checkbox\" ><label for=\"sk-estimator-id-1\" class=\"sk-toggleable__label sk-toggleable__label-arrow\">Pipeline</label><div class=\"sk-toggleable__content\"><pre>Pipeline(steps=[(&#x27;preprocessor&#x27;,\n",
       "                 ColumnTransformer(transformers=[(&#x27;num&#x27;,\n",
       "                                                  Pipeline(steps=[(&#x27;imputer&#x27;,\n",
       "                                                                   SimpleImputer()),\n",
       "                                                                  (&#x27;scaler&#x27;,\n",
       "                                                                   StandardScaler())]),\n",
       "                                                  [&#x27;Age&#x27;, &#x27;Flight_Distance&#x27;,\n",
       "                                                   &#x27;DepartureDelayin_Mins&#x27;]),\n",
       "                                                 (&#x27;feed_col&#x27;,\n",
       "                                                  Pipeline(steps=[(&#x27;imputer&#x27;,\n",
       "                                                                   SimpleImputer(fill_value=&#x27;not_captured&#x27;,\n",
       "                                                                                 strategy=&#x27;constant&#x27;)),\n",
       "                                                                  (&#x27;label_encoder&#x27;,\n",
       "                                                                   OrdinalEncoder()),\n",
       "                                                                  (&#x27;scaler&#x27;,\n",
       "                                                                   Standard...\n",
       "                                                   &#x27;Leg_room_service&#x27;,\n",
       "                                                   &#x27;Baggage_handling&#x27;,\n",
       "                                                   &#x27;Checkin_service&#x27;,\n",
       "                                                   &#x27;Cleanliness&#x27;,\n",
       "                                                   &#x27;Online_boarding&#x27;]),\n",
       "                                                 (&#x27;other_cat_col&#x27;,\n",
       "                                                  Pipeline(steps=[(&#x27;imputer&#x27;,\n",
       "                                                                   SimpleImputer(fill_value=&#x27;not_captured&#x27;,\n",
       "                                                                                 strategy=&#x27;constant&#x27;)),\n",
       "                                                                  (&#x27;onehot&#x27;,\n",
       "                                                                   OneHotEncoder(handle_unknown=&#x27;ignore&#x27;))]),\n",
       "                                                  [&#x27;Gender&#x27;, &#x27;CustomerType&#x27;,\n",
       "                                                   &#x27;TypeTravel&#x27;, &#x27;Class&#x27;])])),\n",
       "                (&#x27;classifier&#x27;, RandomForestClassifier(max_depth=30))])</pre></div></div></div><div class=\"sk-serial\"><div class=\"sk-item sk-dashed-wrapped\"><div class=\"sk-label-container\"><div class=\"sk-label sk-toggleable\"><input class=\"sk-toggleable__control sk-hidden--visually\" id=\"sk-estimator-id-2\" type=\"checkbox\" ><label for=\"sk-estimator-id-2\" class=\"sk-toggleable__label sk-toggleable__label-arrow\">preprocessor: ColumnTransformer</label><div class=\"sk-toggleable__content\"><pre>ColumnTransformer(transformers=[(&#x27;num&#x27;,\n",
       "                                 Pipeline(steps=[(&#x27;imputer&#x27;, SimpleImputer()),\n",
       "                                                 (&#x27;scaler&#x27;, StandardScaler())]),\n",
       "                                 [&#x27;Age&#x27;, &#x27;Flight_Distance&#x27;,\n",
       "                                  &#x27;DepartureDelayin_Mins&#x27;]),\n",
       "                                (&#x27;feed_col&#x27;,\n",
       "                                 Pipeline(steps=[(&#x27;imputer&#x27;,\n",
       "                                                  SimpleImputer(fill_value=&#x27;not_captured&#x27;,\n",
       "                                                                strategy=&#x27;constant&#x27;)),\n",
       "                                                 (&#x27;label_encoder&#x27;,\n",
       "                                                  OrdinalEncoder()),\n",
       "                                                 (&#x27;scaler&#x27;, StandardScaler())]),\n",
       "                                 [&#x27;Seat_comfort&#x27;,\n",
       "                                  &#x27;Dep...\n",
       "                                  &#x27;Inflight_entertainment&#x27;, &#x27;Online_support&#x27;,\n",
       "                                  &#x27;Ease_of_Onlinebooking&#x27;, &#x27;Onboard_service&#x27;,\n",
       "                                  &#x27;Leg_room_service&#x27;, &#x27;Baggage_handling&#x27;,\n",
       "                                  &#x27;Checkin_service&#x27;, &#x27;Cleanliness&#x27;,\n",
       "                                  &#x27;Online_boarding&#x27;]),\n",
       "                                (&#x27;other_cat_col&#x27;,\n",
       "                                 Pipeline(steps=[(&#x27;imputer&#x27;,\n",
       "                                                  SimpleImputer(fill_value=&#x27;not_captured&#x27;,\n",
       "                                                                strategy=&#x27;constant&#x27;)),\n",
       "                                                 (&#x27;onehot&#x27;,\n",
       "                                                  OneHotEncoder(handle_unknown=&#x27;ignore&#x27;))]),\n",
       "                                 [&#x27;Gender&#x27;, &#x27;CustomerType&#x27;, &#x27;TypeTravel&#x27;,\n",
       "                                  &#x27;Class&#x27;])])</pre></div></div></div><div class=\"sk-parallel\"><div class=\"sk-parallel-item\"><div class=\"sk-item\"><div class=\"sk-label-container\"><div class=\"sk-label sk-toggleable\"><input class=\"sk-toggleable__control sk-hidden--visually\" id=\"sk-estimator-id-3\" type=\"checkbox\" ><label for=\"sk-estimator-id-3\" class=\"sk-toggleable__label sk-toggleable__label-arrow\">num</label><div class=\"sk-toggleable__content\"><pre>[&#x27;Age&#x27;, &#x27;Flight_Distance&#x27;, &#x27;DepartureDelayin_Mins&#x27;]</pre></div></div></div><div class=\"sk-serial\"><div class=\"sk-item\"><div class=\"sk-serial\"><div class=\"sk-item\"><div class=\"sk-estimator sk-toggleable\"><input class=\"sk-toggleable__control sk-hidden--visually\" id=\"sk-estimator-id-4\" type=\"checkbox\" ><label for=\"sk-estimator-id-4\" class=\"sk-toggleable__label sk-toggleable__label-arrow\">SimpleImputer</label><div class=\"sk-toggleable__content\"><pre>SimpleImputer()</pre></div></div></div><div class=\"sk-item\"><div class=\"sk-estimator sk-toggleable\"><input class=\"sk-toggleable__control sk-hidden--visually\" id=\"sk-estimator-id-5\" type=\"checkbox\" ><label for=\"sk-estimator-id-5\" class=\"sk-toggleable__label sk-toggleable__label-arrow\">StandardScaler</label><div class=\"sk-toggleable__content\"><pre>StandardScaler()</pre></div></div></div></div></div></div></div></div><div class=\"sk-parallel-item\"><div class=\"sk-item\"><div class=\"sk-label-container\"><div class=\"sk-label sk-toggleable\"><input class=\"sk-toggleable__control sk-hidden--visually\" id=\"sk-estimator-id-6\" type=\"checkbox\" ><label for=\"sk-estimator-id-6\" class=\"sk-toggleable__label sk-toggleable__label-arrow\">feed_col</label><div class=\"sk-toggleable__content\"><pre>[&#x27;Seat_comfort&#x27;, &#x27;Departure.Arrival.time_convenient&#x27;, &#x27;Food_drink&#x27;, &#x27;Gate_location&#x27;, &#x27;Inflightwifi_service&#x27;, &#x27;Inflight_entertainment&#x27;, &#x27;Online_support&#x27;, &#x27;Ease_of_Onlinebooking&#x27;, &#x27;Onboard_service&#x27;, &#x27;Leg_room_service&#x27;, &#x27;Baggage_handling&#x27;, &#x27;Checkin_service&#x27;, &#x27;Cleanliness&#x27;, &#x27;Online_boarding&#x27;]</pre></div></div></div><div class=\"sk-serial\"><div class=\"sk-item\"><div class=\"sk-serial\"><div class=\"sk-item\"><div class=\"sk-estimator sk-toggleable\"><input class=\"sk-toggleable__control sk-hidden--visually\" id=\"sk-estimator-id-7\" type=\"checkbox\" ><label for=\"sk-estimator-id-7\" class=\"sk-toggleable__label sk-toggleable__label-arrow\">SimpleImputer</label><div class=\"sk-toggleable__content\"><pre>SimpleImputer(fill_value=&#x27;not_captured&#x27;, strategy=&#x27;constant&#x27;)</pre></div></div></div><div class=\"sk-item\"><div class=\"sk-estimator sk-toggleable\"><input class=\"sk-toggleable__control sk-hidden--visually\" id=\"sk-estimator-id-8\" type=\"checkbox\" ><label for=\"sk-estimator-id-8\" class=\"sk-toggleable__label sk-toggleable__label-arrow\">OrdinalEncoder</label><div class=\"sk-toggleable__content\"><pre>OrdinalEncoder()</pre></div></div></div><div class=\"sk-item\"><div class=\"sk-estimator sk-toggleable\"><input class=\"sk-toggleable__control sk-hidden--visually\" id=\"sk-estimator-id-9\" type=\"checkbox\" ><label for=\"sk-estimator-id-9\" class=\"sk-toggleable__label sk-toggleable__label-arrow\">StandardScaler</label><div class=\"sk-toggleable__content\"><pre>StandardScaler()</pre></div></div></div></div></div></div></div></div><div class=\"sk-parallel-item\"><div class=\"sk-item\"><div class=\"sk-label-container\"><div class=\"sk-label sk-toggleable\"><input class=\"sk-toggleable__control sk-hidden--visually\" id=\"sk-estimator-id-10\" type=\"checkbox\" ><label for=\"sk-estimator-id-10\" class=\"sk-toggleable__label sk-toggleable__label-arrow\">other_cat_col</label><div class=\"sk-toggleable__content\"><pre>[&#x27;Gender&#x27;, &#x27;CustomerType&#x27;, &#x27;TypeTravel&#x27;, &#x27;Class&#x27;]</pre></div></div></div><div class=\"sk-serial\"><div class=\"sk-item\"><div class=\"sk-serial\"><div class=\"sk-item\"><div class=\"sk-estimator sk-toggleable\"><input class=\"sk-toggleable__control sk-hidden--visually\" id=\"sk-estimator-id-11\" type=\"checkbox\" ><label for=\"sk-estimator-id-11\" class=\"sk-toggleable__label sk-toggleable__label-arrow\">SimpleImputer</label><div class=\"sk-toggleable__content\"><pre>SimpleImputer(fill_value=&#x27;not_captured&#x27;, strategy=&#x27;constant&#x27;)</pre></div></div></div><div class=\"sk-item\"><div class=\"sk-estimator sk-toggleable\"><input class=\"sk-toggleable__control sk-hidden--visually\" id=\"sk-estimator-id-12\" type=\"checkbox\" ><label for=\"sk-estimator-id-12\" class=\"sk-toggleable__label sk-toggleable__label-arrow\">OneHotEncoder</label><div class=\"sk-toggleable__content\"><pre>OneHotEncoder(handle_unknown=&#x27;ignore&#x27;)</pre></div></div></div></div></div></div></div></div></div></div><div class=\"sk-item\"><div class=\"sk-estimator sk-toggleable\"><input class=\"sk-toggleable__control sk-hidden--visually\" id=\"sk-estimator-id-13\" type=\"checkbox\" ><label for=\"sk-estimator-id-13\" class=\"sk-toggleable__label sk-toggleable__label-arrow\">RandomForestClassifier</label><div class=\"sk-toggleable__content\"><pre>RandomForestClassifier(max_depth=30)</pre></div></div></div></div></div></div></div>"
      ],
      "text/plain": [
       "Pipeline(steps=[('preprocessor',\n",
       "                 ColumnTransformer(transformers=[('num',\n",
       "                                                  Pipeline(steps=[('imputer',\n",
       "                                                                   SimpleImputer()),\n",
       "                                                                  ('scaler',\n",
       "                                                                   StandardScaler())]),\n",
       "                                                  ['Age', 'Flight_Distance',\n",
       "                                                   'DepartureDelayin_Mins']),\n",
       "                                                 ('feed_col',\n",
       "                                                  Pipeline(steps=[('imputer',\n",
       "                                                                   SimpleImputer(fill_value='not_captured',\n",
       "                                                                                 strategy='constant')),\n",
       "                                                                  ('label_encoder',\n",
       "                                                                   OrdinalEncoder()),\n",
       "                                                                  ('scaler',\n",
       "                                                                   Standard...\n",
       "                                                   'Leg_room_service',\n",
       "                                                   'Baggage_handling',\n",
       "                                                   'Checkin_service',\n",
       "                                                   'Cleanliness',\n",
       "                                                   'Online_boarding']),\n",
       "                                                 ('other_cat_col',\n",
       "                                                  Pipeline(steps=[('imputer',\n",
       "                                                                   SimpleImputer(fill_value='not_captured',\n",
       "                                                                                 strategy='constant')),\n",
       "                                                                  ('onehot',\n",
       "                                                                   OneHotEncoder(handle_unknown='ignore'))]),\n",
       "                                                  ['Gender', 'CustomerType',\n",
       "                                                   'TypeTravel', 'Class'])])),\n",
       "                ('classifier', RandomForestClassifier(max_depth=30))])"
      ]
     },
     "execution_count": 13,
     "metadata": {},
     "output_type": "execute_result"
    }
   ],
   "source": [
    "#Fitting Pipeline \n",
    "clf.fit(X_trains, y_trains)"
   ]
  },
  {
   "cell_type": "code",
   "execution_count": 14,
   "metadata": {},
   "outputs": [
    {
     "data": {
      "text/plain": [
       "0.9439482599322452"
      ]
     },
     "execution_count": 14,
     "metadata": {},
     "output_type": "execute_result"
    }
   ],
   "source": [
    "#Getting score \n",
    "clf.score(X_tests, y_tests)"
   ]
  },
  {
   "cell_type": "markdown",
   "metadata": {},
   "source": [
    "# Conclusion:\n",
    "\n",
    "- Given some data, we have seen how to perform EDA for that dataset\n",
    "- The data that we had was not entirely continuous or categorical. Hence we improvised the analysis to draw insights\n",
    "- We used the same old bar-charts but the way we interpreted is unique to this problem\n",
    "- Beyond EDA, we have seen how to preprocess data and train Supervised Models with it\n",
    "- We finally put all the steps in one place and built a pipeline using the Sklearn's Pipeline function\n",
    "\n",
    "# Explore:\n",
    "\n",
    "- You can cluster different segments of customer to get more insights about their behaviours.\n",
    "- Create new features and select the best features to improve your model further.\n",
    "\n",
    "and more ----"
   ]
  }
 ],
 "metadata": {
  "kernelspec": {
   "display_name": "Python 3",
   "language": "python",
   "name": "python3"
  },
  "language_info": {
   "codemirror_mode": {
    "name": "ipython",
    "version": 3
   },
   "file_extension": ".py",
   "mimetype": "text/x-python",
   "name": "python",
   "nbconvert_exporter": "python",
   "pygments_lexer": "ipython3",
   "version": "3.8.5"
  }
 },
 "nbformat": 4,
 "nbformat_minor": 2
}
